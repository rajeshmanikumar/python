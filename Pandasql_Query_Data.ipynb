{
 "cells": [
  {
   "cell_type": "code",
   "execution_count": 1,
   "metadata": {},
   "outputs": [
    {
     "name": "stdout",
     "output_type": "stream",
     "text": [
      "         Date        Open        High         Low       Close   Adj Close  \\\n",
      "0  2019-02-15  304.500000  308.000000  303.899994  307.880005  307.880005   \n",
      "1  2019-02-19  306.559998  311.540009  305.470001  305.640015  305.640015   \n",
      "2  2019-02-20  304.410004  306.299988  299.000000  302.559998  302.559998   \n",
      "3  2019-02-21  301.809998  303.239990  290.500000  291.230011  291.230011   \n",
      "4  2019-02-22  294.489990  296.500000  292.100006  294.709991  294.709991   \n",
      "\n",
      "    Volume  \n",
      "0  3904900  \n",
      "1  4168400  \n",
      "2  7142100  \n",
      "3  8909200  \n",
      "4  5740600  \n"
     ]
    }
   ],
   "source": [
    "import pandas as pd \n",
    "pd.set_option('display.max_columns', None)\n",
    "pd.set_option('display.max_rows', None)\n",
    "df_TSLA = pd.read_csv(\"TSLA.csv\")\n",
    "print(df_TSLA.head())"
   ]
  },
  {
   "cell_type": "code",
   "execution_count": 2,
   "metadata": {},
   "outputs": [
    {
     "name": "stdout",
     "output_type": "stream",
     "text": [
      "0         NaN\n",
      "1    0.006765\n",
      "2   -0.007013\n",
      "3   -0.008541\n",
      "4   -0.024254\n",
      "Name: Open, dtype: float64\n"
     ]
    }
   ],
   "source": [
    "print(df_TSLA['Open'].pct_change().head())"
   ]
  },
  {
   "cell_type": "code",
   "execution_count": 3,
   "metadata": {},
   "outputs": [
    {
     "name": "stdout",
     "output_type": "stream",
     "text": [
      "0    304.500000\n",
      "1    306.559998\n",
      "2    304.410004\n",
      "3    301.809998\n",
      "4    294.489990\n",
      "Name: Open, dtype: float64\n"
     ]
    }
   ],
   "source": [
    "print(df_TSLA['Open'].head())"
   ]
  },
  {
   "cell_type": "code",
   "execution_count": 1,
   "metadata": {},
   "outputs": [],
   "source": [
    "import seaborn as sns\n",
    "import matplotlib.pyplot as plt"
   ]
  },
  {
   "cell_type": "code",
   "execution_count": 8,
   "metadata": {},
   "outputs": [
    {
     "data": {
      "text/plain": [
       "<matplotlib.axes._subplots.AxesSubplot at 0x273782452b0>"
      ]
     },
     "execution_count": 8,
     "metadata": {},
     "output_type": "execute_result"
    },
    {
     "data": {
      "image/png": "[encoded data removed]",
      "text/plain": [
       "<Figure size 432x288 with 1 Axes>"
      ]
     },
     "metadata": {},
     "output_type": "display_data"
    }
   ],
   "source": [
    "df_TSLA = df_TSLA[['Date', 'Open']]\n",
    "df_TSLA['Date'] = pd.to_datetime(df_TSLA['Date'])\n",
    "df_TSLA.set_index('Date', inplace = True)\n",
    "df_TSLA = df_TSLA['Open']\n",
    "\n",
    "\n",
    "sns.set()\n",
    "plt.xlabel('Date')\n",
    "plt.ylabel('Price')\n",
    "df_TSLA.plot(style = 'k--')\n",
    "df_TSLA.rolling(window = 10).mean().plot(style = 'k')"
   ]
  },
  {
   "cell_type": "code",
   "execution_count": 5,
   "metadata": {},
   "outputs": [],
   "source": [
    "import pandasql"
   ]
  },
  {
   "cell_type": "code",
   "execution_count": 6,
   "metadata": {},
   "outputs": [],
   "source": [
    "import pandasql"
   ]
  },
  {
   "cell_type": "code",
   "execution_count": 8,
   "metadata": {},
   "outputs": [
    {
     "name": "stdout",
     "output_type": "stream",
     "text": [
      "         Date        Open        High         Low       Close   Adj Close  \\\n",
      "0  2019-02-15  304.500000  308.000000  303.899994  307.880005  307.880005   \n",
      "1  2019-02-19  306.559998  311.540009  305.470001  305.640015  305.640015   \n",
      "2  2019-02-20  304.410004  306.299988  299.000000  302.559998  302.559998   \n",
      "\n",
      "    Volume  \n",
      "0  3904900  \n",
      "1  4168400  \n",
      "2  7142100  \n"
     ]
    }
   ],
   "source": [
    "sub_data = pandasql.sqldf(\"SELECT * FROM df_TSLA LIMIT 3;\", globals())\n",
    "print(sub_data)"
   ]
  },
  {
   "cell_type": "code",
   "execution_count": null,
   "metadata": {},
   "outputs": [],
   "source": []
  }
 ],
 "metadata": {
  "kernelspec": {
   "display_name": "Python 3",
   "language": "python",
   "name": "python3"
  },
  "language_info": {
   "codemirror_mode": {
    "name": "ipython",
    "version": 3
   },
   "file_extension": ".py",
   "mimetype": "text/x-python",
   "name": "python",
   "nbconvert_exporter": "python",
   "pygments_lexer": "ipython3",
   "version": "3.7.6"
  }
 },
 "nbformat": 4,
 "nbformat_minor": 2
}
