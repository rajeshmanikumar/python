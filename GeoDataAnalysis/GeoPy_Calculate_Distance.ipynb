{
 "cells": [
  {
   "cell_type": "markdown",
   "metadata": {},
   "source": [
    "## Distance Calculation by latitude, longitude"
   ]
  },
  {
   "cell_type": "code",
   "execution_count": 4,
   "metadata": {},
   "outputs": [
    {
     "name": "stdout",
     "output_type": "stream",
     "text": [
      "279.35290160430094\n"
     ]
    }
   ],
   "source": [
    "import geopy.distance\n",
    "\n",
    "coords_1 = (52.2296756, 21.0122287)\n",
    "coords_2 = (52.406374, 16.9251681)\n",
    "\n",
    "print (geopy.distance.geodesic(coords_1, coords_2).km)"
   ]
  },
  {
   "cell_type": "code",
   "execution_count": 8,
   "metadata": {},
   "outputs": [
    {
     "name": "stdout",
     "output_type": "stream",
     "text": [
      "23576.805481751613 Meters\n",
      "23.576805481751613\n",
      "14.64994773134371\n"
     ]
    }
   ],
   "source": [
    "from geopy.distance import geodesic\n",
    "\n",
    "\n",
    "origin = (30.172705, 31.526725)  # (latitude, longitude) \n",
    "dist = (30.288281, 31.732326)\n",
    "\n",
    "print(str(geodesic(origin, dist).meters) + \" Meters\" )\n",
    "print(geodesic(origin, dist).kilometers)  \n",
    "print(geodesic(origin, dist).miles)  "
   ]
  },
  {
   "cell_type": "markdown",
   "metadata": {},
   "source": [
    "## **GPXPY** "
   ]
  },
  {
   "cell_type": "markdown",
   "metadata": {},
   "source": [
    "Gpx is an XML-schema designed as a common GPS data format for software applications. It can be used to describe waypoints, tracks, and routes"
   ]
  },
  {
   "cell_type": "code",
   "execution_count": 1,
   "metadata": {},
   "outputs": [],
   "source": [
    "import gpxpy\n",
    "import matplotlib.pyplot as plt\n",
    "import datetime\n",
    "from geopy import distance\n",
    "from math import sqrt, floor\n",
    "import numpy as np\n",
    "import pandas as pd\n",
    "import chart_studio.plotly as py\n",
    "import plotly.graph_objs as go\n",
    "import haversine"
   ]
  },
  {
   "cell_type": "code",
   "execution_count": 6,
   "metadata": {},
   "outputs": [],
   "source": [
    "gpx_file = open('Run_Data.gpx', 'r')\n",
    "gpx = gpxpy.parse(gpx_file)"
   ]
  },
  {
   "cell_type": "code",
   "execution_count": 7,
   "metadata": {},
   "outputs": [
    {
     "data": {
      "text/plain": [
       "2426"
      ]
     },
     "execution_count": 7,
     "metadata": {},
     "output_type": "execute_result"
    }
   ],
   "source": [
    "len(gpx.tracks)\n",
    "len(gpx.tracks[0].segments)\n",
    "len(gpx.tracks[0].segments[0].points)"
   ]
  },
  {
   "cell_type": "code",
   "execution_count": 8,
   "metadata": {},
   "outputs": [],
   "source": [
    "data = gpx.tracks[0].segments[0].points"
   ]
  },
  {
   "cell_type": "code",
   "execution_count": 9,
   "metadata": {},
   "outputs": [],
   "source": [
    "## Start Position\n",
    "start = data[0]\n",
    "## End Position\n",
    "finish = data[-1]"
   ]
  },
  {
   "cell_type": "code",
   "execution_count": 10,
   "metadata": {},
   "outputs": [],
   "source": [
    "df = pd.DataFrame(columns=['lon', 'lat', 'alt', 'time'])\n",
    "for point in data:\n",
    "    df = df.append({'lon': point.longitude, 'lat' : point.latitude, 'alt' : point.elevation, 'time' : point.time}, ignore_index=True)"
   ]
  },
  {
   "cell_type": "code",
   "execution_count": 11,
   "metadata": {},
   "outputs": [
    {
     "data": {
      "text/html": [
       "<div>\n",
       "<style scoped>\n",
       "    .dataframe tbody tr th:only-of-type {\n",
       "        vertical-align: middle;\n",
       "    }\n",
       "\n",
       "    .dataframe tbody tr th {\n",
       "        vertical-align: top;\n",
       "    }\n",
       "\n",
       "    .dataframe thead th {\n",
       "        text-align: right;\n",
       "    }\n",
       "</style>\n",
       "<table border=\"1\" class=\"dataframe\">\n",
       "  <thead>\n",
       "    <tr style=\"text-align: right;\">\n",
       "      <th></th>\n",
       "      <th>lon</th>\n",
       "      <th>lat</th>\n",
       "      <th>alt</th>\n",
       "      <th>time</th>\n",
       "    </tr>\n",
       "  </thead>\n",
       "  <tbody>\n",
       "    <tr>\n",
       "      <th>0</th>\n",
       "      <td>100.491491</td>\n",
       "      <td>13.725929</td>\n",
       "      <td>9.8</td>\n",
       "      <td>2018-07-24 07:32:31+00:00</td>\n",
       "    </tr>\n",
       "    <tr>\n",
       "      <th>1</th>\n",
       "      <td>100.491541</td>\n",
       "      <td>13.725939</td>\n",
       "      <td>10.5</td>\n",
       "      <td>2018-07-24 07:32:33+00:00</td>\n",
       "    </tr>\n",
       "    <tr>\n",
       "      <th>2</th>\n",
       "      <td>100.491575</td>\n",
       "      <td>13.725943</td>\n",
       "      <td>10.7</td>\n",
       "      <td>2018-07-24 07:32:35+00:00</td>\n",
       "    </tr>\n",
       "    <tr>\n",
       "      <th>3</th>\n",
       "      <td>100.491629</td>\n",
       "      <td>13.725970</td>\n",
       "      <td>10.8</td>\n",
       "      <td>2018-07-24 07:32:37+00:00</td>\n",
       "    </tr>\n",
       "    <tr>\n",
       "      <th>4</th>\n",
       "      <td>100.491667</td>\n",
       "      <td>13.725987</td>\n",
       "      <td>11.1</td>\n",
       "      <td>2018-07-24 07:32:38+00:00</td>\n",
       "    </tr>\n",
       "  </tbody>\n",
       "</table>\n",
       "</div>"
      ],
      "text/plain": [
       "          lon        lat   alt                       time\n",
       "0  100.491491  13.725929   9.8  2018-07-24 07:32:31+00:00\n",
       "1  100.491541  13.725939  10.5  2018-07-24 07:32:33+00:00\n",
       "2  100.491575  13.725943  10.7  2018-07-24 07:32:35+00:00\n",
       "3  100.491629  13.725970  10.8  2018-07-24 07:32:37+00:00\n",
       "4  100.491667  13.725987  11.1  2018-07-24 07:32:38+00:00"
      ]
     },
     "execution_count": 11,
     "metadata": {},
     "output_type": "execute_result"
    }
   ],
   "source": [
    "df.head()"
   ]
  },
  {
   "cell_type": "code",
   "execution_count": 12,
   "metadata": {},
   "outputs": [
    {
     "data": {
      "text/plain": [
       "[<matplotlib.lines.Line2D at 0x27936700708>]"
      ]
     },
     "execution_count": 12,
     "metadata": {},
     "output_type": "execute_result"
    },
    {
     "data": {
      "image/png": "[encoded data removed]",
      "text/plain": [
       "<Figure size 432x288 with 1 Axes>"
      ]
     },
     "metadata": {
      "needs_background": "light"
     },
     "output_type": "display_data"
    }
   ],
   "source": [
    "plt.plot(df['lon'], df['lat'])"
   ]
  },
  {
   "cell_type": "code",
   "execution_count": 16,
   "metadata": {},
   "outputs": [
    {
     "data": {
      "text/html": [
       "<div>\n",
       "<style scoped>\n",
       "    .dataframe tbody tr th:only-of-type {\n",
       "        vertical-align: middle;\n",
       "    }\n",
       "\n",
       "    .dataframe tbody tr th {\n",
       "        vertical-align: top;\n",
       "    }\n",
       "\n",
       "    .dataframe thead th {\n",
       "        text-align: right;\n",
       "    }\n",
       "</style>\n",
       "<table border=\"1\" class=\"dataframe\">\n",
       "  <thead>\n",
       "    <tr style=\"text-align: right;\">\n",
       "      <th></th>\n",
       "      <th>lon</th>\n",
       "      <th>lat</th>\n",
       "      <th>alt</th>\n",
       "      <th>time</th>\n",
       "    </tr>\n",
       "  </thead>\n",
       "  <tbody>\n",
       "  </tbody>\n",
       "</table>\n",
       "</div>"
      ],
      "text/plain": [
       "Empty DataFrame\n",
       "Columns: [lon, lat, alt, time]\n",
       "Index: []"
      ]
     },
     "execution_count": 16,
     "metadata": {},
     "output_type": "execute_result"
    }
   ],
   "source": [
    "df[df['time']=='2018-07-24 07:32:31+00:00']"
   ]
  },
  {
   "cell_type": "markdown",
   "metadata": {},
   "source": [
    "## World Citys - Belgium"
   ]
  },
  {
   "cell_type": "code",
   "execution_count": 18,
   "metadata": {},
   "outputs": [
    {
     "name": "stdout",
     "output_type": "stream",
     "text": [
      "          city   city_ascii      lat       lng        country iso2 iso3  \\\n",
      "0        Tokyo        Tokyo  35.6850  139.7514          Japan   JP  JPN   \n",
      "1     New York     New York  40.6943  -73.9249  United States   US  USA   \n",
      "2  Mexico City  Mexico City  19.4424  -99.1310         Mexico   MX  MEX   \n",
      "3       Mumbai       Mumbai  19.0170   72.8570          India   IN  IND   \n",
      "4    São Paulo    Sao Paulo -23.5587  -46.6250         Brazil   BR  BRA   \n",
      "\n",
      "         admin_name  capital  population          id  \n",
      "0             Tōkyō  primary  35676000.0  1392685764  \n",
      "1          New York      NaN  19354922.0  1840034016  \n",
      "2  Ciudad de México  primary  19028000.0  1484247881  \n",
      "3       Mahārāshtra    admin  18978000.0  1356226629  \n",
      "4         São Paulo    admin  18845000.0  1076532519  \n"
     ]
    }
   ],
   "source": [
    "import pandas as pd \n",
    "pd.set_option('display.max_columns', None)\n",
    "pd.set_option('display.max_rows', None)\n",
    "df_CityInfo = pd.read_csv(\"worldcities.csv\")\n",
    "print(df_CityInfo.head())"
   ]
  },
  {
   "cell_type": "code",
   "execution_count": 19,
   "metadata": {},
   "outputs": [
    {
     "data": {
      "text/html": [
       "<div>\n",
       "<style scoped>\n",
       "    .dataframe tbody tr th:only-of-type {\n",
       "        vertical-align: middle;\n",
       "    }\n",
       "\n",
       "    .dataframe tbody tr th {\n",
       "        vertical-align: top;\n",
       "    }\n",
       "\n",
       "    .dataframe thead th {\n",
       "        text-align: right;\n",
       "    }\n",
       "</style>\n",
       "<table border=\"1\" class=\"dataframe\">\n",
       "  <thead>\n",
       "    <tr style=\"text-align: right;\">\n",
       "      <th></th>\n",
       "      <th>city</th>\n",
       "      <th>city_ascii</th>\n",
       "      <th>lat</th>\n",
       "      <th>lng</th>\n",
       "      <th>country</th>\n",
       "      <th>iso2</th>\n",
       "      <th>iso3</th>\n",
       "      <th>admin_name</th>\n",
       "      <th>capital</th>\n",
       "      <th>population</th>\n",
       "      <th>id</th>\n",
       "    </tr>\n",
       "  </thead>\n",
       "  <tbody>\n",
       "    <tr>\n",
       "      <th>245</th>\n",
       "      <td>Brussels</td>\n",
       "      <td>Brussels</td>\n",
       "      <td>50.8333</td>\n",
       "      <td>4.3333</td>\n",
       "      <td>Belgium</td>\n",
       "      <td>BE</td>\n",
       "      <td>BEL</td>\n",
       "      <td>Brussels-Capital Region</td>\n",
       "      <td>primary</td>\n",
       "      <td>1743000.0</td>\n",
       "      <td>1056469830</td>\n",
       "    </tr>\n",
       "    <tr>\n",
       "      <th>657</th>\n",
       "      <td>Antwerp</td>\n",
       "      <td>Antwerp</td>\n",
       "      <td>51.2204</td>\n",
       "      <td>4.4150</td>\n",
       "      <td>Belgium</td>\n",
       "      <td>BE</td>\n",
       "      <td>BEL</td>\n",
       "      <td>Flanders</td>\n",
       "      <td>minor</td>\n",
       "      <td>920000.0</td>\n",
       "      <td>1056168623</td>\n",
       "    </tr>\n",
       "    <tr>\n",
       "      <th>804</th>\n",
       "      <td>Liège</td>\n",
       "      <td>Liege</td>\n",
       "      <td>50.6300</td>\n",
       "      <td>5.5800</td>\n",
       "      <td>Belgium</td>\n",
       "      <td>BE</td>\n",
       "      <td>BEL</td>\n",
       "      <td>Wallonia</td>\n",
       "      <td>minor</td>\n",
       "      <td>749110.0</td>\n",
       "      <td>1056513284</td>\n",
       "    </tr>\n",
       "    <tr>\n",
       "      <th>1150</th>\n",
       "      <td>Gent</td>\n",
       "      <td>Gent</td>\n",
       "      <td>51.0300</td>\n",
       "      <td>3.7000</td>\n",
       "      <td>Belgium</td>\n",
       "      <td>BE</td>\n",
       "      <td>BEL</td>\n",
       "      <td>Flanders</td>\n",
       "      <td>minor</td>\n",
       "      <td>444336.0</td>\n",
       "      <td>1056062897</td>\n",
       "    </tr>\n",
       "    <tr>\n",
       "      <th>1390</th>\n",
       "      <td>Charleroi</td>\n",
       "      <td>Charleroi</td>\n",
       "      <td>50.4204</td>\n",
       "      <td>4.4500</td>\n",
       "      <td>Belgium</td>\n",
       "      <td>BE</td>\n",
       "      <td>BEL</td>\n",
       "      <td>Wallonia</td>\n",
       "      <td>minor</td>\n",
       "      <td>345367.0</td>\n",
       "      <td>1056263311</td>\n",
       "    </tr>\n",
       "    <tr>\n",
       "      <th>2627</th>\n",
       "      <td>Bruges</td>\n",
       "      <td>Bruges</td>\n",
       "      <td>51.2204</td>\n",
       "      <td>3.2300</td>\n",
       "      <td>Belgium</td>\n",
       "      <td>BE</td>\n",
       "      <td>BEL</td>\n",
       "      <td>Flanders</td>\n",
       "      <td>minor</td>\n",
       "      <td>146469.0</td>\n",
       "      <td>1056953902</td>\n",
       "    </tr>\n",
       "    <tr>\n",
       "      <th>3151</th>\n",
       "      <td>Namur</td>\n",
       "      <td>Namur</td>\n",
       "      <td>50.4704</td>\n",
       "      <td>4.8700</td>\n",
       "      <td>Belgium</td>\n",
       "      <td>BE</td>\n",
       "      <td>BEL</td>\n",
       "      <td>Wallonia</td>\n",
       "      <td>admin</td>\n",
       "      <td>106284.0</td>\n",
       "      <td>1056954156</td>\n",
       "    </tr>\n",
       "    <tr>\n",
       "      <th>7123</th>\n",
       "      <td>Mons</td>\n",
       "      <td>Mons</td>\n",
       "      <td>50.4460</td>\n",
       "      <td>3.9390</td>\n",
       "      <td>Belgium</td>\n",
       "      <td>BE</td>\n",
       "      <td>BEL</td>\n",
       "      <td>Wallonia</td>\n",
       "      <td>minor</td>\n",
       "      <td>91277.0</td>\n",
       "      <td>1056836704</td>\n",
       "    </tr>\n",
       "    <tr>\n",
       "      <th>7437</th>\n",
       "      <td>Hasselt</td>\n",
       "      <td>Hasselt</td>\n",
       "      <td>50.9640</td>\n",
       "      <td>5.4840</td>\n",
       "      <td>Belgium</td>\n",
       "      <td>BE</td>\n",
       "      <td>BEL</td>\n",
       "      <td>Flanders</td>\n",
       "      <td>minor</td>\n",
       "      <td>69222.0</td>\n",
       "      <td>1056617022</td>\n",
       "    </tr>\n",
       "    <tr>\n",
       "      <th>9147</th>\n",
       "      <td>Arlon</td>\n",
       "      <td>Arlon</td>\n",
       "      <td>49.6833</td>\n",
       "      <td>5.8167</td>\n",
       "      <td>Belgium</td>\n",
       "      <td>BE</td>\n",
       "      <td>BEL</td>\n",
       "      <td>Wallonia</td>\n",
       "      <td>minor</td>\n",
       "      <td>26179.0</td>\n",
       "      <td>1056746428</td>\n",
       "    </tr>\n",
       "  </tbody>\n",
       "</table>\n",
       "</div>"
      ],
      "text/plain": [
       "           city city_ascii      lat     lng  country iso2 iso3  \\\n",
       "245    Brussels   Brussels  50.8333  4.3333  Belgium   BE  BEL   \n",
       "657     Antwerp    Antwerp  51.2204  4.4150  Belgium   BE  BEL   \n",
       "804       Liège      Liege  50.6300  5.5800  Belgium   BE  BEL   \n",
       "1150       Gent       Gent  51.0300  3.7000  Belgium   BE  BEL   \n",
       "1390  Charleroi  Charleroi  50.4204  4.4500  Belgium   BE  BEL   \n",
       "2627     Bruges     Bruges  51.2204  3.2300  Belgium   BE  BEL   \n",
       "3151      Namur      Namur  50.4704  4.8700  Belgium   BE  BEL   \n",
       "7123       Mons       Mons  50.4460  3.9390  Belgium   BE  BEL   \n",
       "7437    Hasselt    Hasselt  50.9640  5.4840  Belgium   BE  BEL   \n",
       "9147      Arlon      Arlon  49.6833  5.8167  Belgium   BE  BEL   \n",
       "\n",
       "                   admin_name  capital  population          id  \n",
       "245   Brussels-Capital Region  primary   1743000.0  1056469830  \n",
       "657                  Flanders    minor    920000.0  1056168623  \n",
       "804                  Wallonia    minor    749110.0  1056513284  \n",
       "1150                 Flanders    minor    444336.0  1056062897  \n",
       "1390                 Wallonia    minor    345367.0  1056263311  \n",
       "2627                 Flanders    minor    146469.0  1056953902  \n",
       "3151                 Wallonia    admin    106284.0  1056954156  \n",
       "7123                 Wallonia    minor     91277.0  1056836704  \n",
       "7437                 Flanders    minor     69222.0  1056617022  \n",
       "9147                 Wallonia    minor     26179.0  1056746428  "
      ]
     },
     "execution_count": 19,
     "metadata": {},
     "output_type": "execute_result"
    }
   ],
   "source": [
    "df_CityInfo[df_CityInfo['country']=='Belgium']"
   ]
  },
  {
   "cell_type": "code",
   "execution_count": null,
   "metadata": {},
   "outputs": [],
   "source": []
  }
 ],
 "metadata": {
  "kernelspec": {
   "display_name": "Python 3",
   "language": "python",
   "name": "python3"
  },
  "language_info": {
   "codemirror_mode": {
    "name": "ipython",
    "version": 3
   },
   "file_extension": ".py",
   "mimetype": "text/x-python",
   "name": "python",
   "nbconvert_exporter": "python",
   "pygments_lexer": "ipython3",
   "version": "3.7.6"
  }
 },
 "nbformat": 4,
 "nbformat_minor": 4
}
